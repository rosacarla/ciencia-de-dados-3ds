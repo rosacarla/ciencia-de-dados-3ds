{
  "nbformat": 4,
  "nbformat_minor": 0,
  "metadata": {
    "colab": {
      "provenance": [],
      "authorship_tag": "ABX9TyOoSFpoEB96R5Khkv+7IkyO",
      "include_colab_link": true
    },
    "kernelspec": {
      "name": "python3",
      "display_name": "Python 3"
    },
    "language_info": {
      "name": "python"
    }
  },
  "cells": [
    {
      "cell_type": "markdown",
      "metadata": {
        "id": "view-in-github",
        "colab_type": "text"
      },
      "source": [
        "<a href=\"https://colab.research.google.com/github/rosacarla/ciencia-de-dados-3ds/blob/main/3ds_cd_medidas_pratica01102025_gabarito.ipynb\" target=\"_parent\"><img src=\"https://colab.research.google.com/assets/colab-badge.svg\" alt=\"Open In Colab\"/></a>"
      ]
    },
    {
      "cell_type": "code",
      "execution_count": null,
      "metadata": {
        "colab": {
          "base_uri": "https://localhost:8080/",
          "height": 568
        },
        "id": "1wQrEfH9_h0C",
        "outputId": "f8557e94-5137-4bc9-be9b-5d760a6fbfb1"
      },
      "outputs": [
        {
          "output_type": "stream",
          "name": "stdout",
          "text": [
            "Quartis: Q1=25.0, Q2=50.0, Q3=75.0\n",
            "Decis:\n",
            "D1: 20.0\n",
            "D2: 20.0\n",
            "D3: 30.0\n",
            "D4: 40.0\n",
            "D5: 50.0\n",
            "D6: 60.0\n",
            "D7: 70.0\n",
            "D8: 80.0\n",
            "D9: 90.0\n",
            "Percentis (1º ao 99º):\n",
            "[11. 12. 13. 14. 15. 16. 17. 18. 19. 20. 20. 20. 20. 20. 20. 20. 20. 20.\n",
            " 20. 20. 21. 22. 23. 24. 25. 26. 27. 28. 29. 30. 31. 32. 33. 34. 35. 36.\n",
            " 37. 38. 39. 40. 41. 42. 43. 44. 45. 46. 47. 48. 49. 50. 51. 52. 53. 54.\n",
            " 55. 56. 57. 58. 59. 60. 61. 62. 63. 64. 65. 66. 67. 68. 69. 70. 71. 72.\n",
            " 73. 74. 75. 76. 77. 78. 79. 80. 81. 82. 83. 84. 85. 86. 87. 88. 89. 90.\n",
            " 91. 92. 93. 94. 95. 96. 97. 98. 99.]\n"
          ]
        },
        {
          "output_type": "display_data",
          "data": {
            "text/plain": [
              "<Figure size 800x200 with 1 Axes>"
            ],
            "image/png": "[encoded data removed]"
          },
          "metadata": {}
        }
      ],
      "source": [
        "# Instalar bibliotecas (caso necessário)\n",
        "# !pip install numpy pandas matplotlib\n",
        "\n",
        "import numpy as np\n",
        "import pandas as pd\n",
        "import matplotlib.pyplot as plt\n",
        "\n",
        "# Conjunto de dados exemplo\n",
        "dados = [10, 20, 20, 30, 40, 50, 60, 70, 80, 90, 100]\n",
        "\n",
        "# Calcular quartis\n",
        "quartis = np.percentile(dados, [25, 50, 75])\n",
        "print(f\"Quartis: Q1={quartis[0]}, Q2={quartis[1]}, Q3={quartis[2]}\")\n",
        "\n",
        "# Calcular decis\n",
        "decis = np.percentile(dados, np.arange(10, 100, 10))\n",
        "print(\"Decis:\")\n",
        "for i, valor in enumerate(decis, start=1):\n",
        "    print(f\"D{i}: {valor}\")\n",
        "\n",
        "# Calcular percentis\n",
        "percentis = np.percentile(dados, np.arange(1, 100, 1))\n",
        "print(\"Percentis (1º ao 99º):\")\n",
        "print(percentis)\n",
        "\n",
        "# Visualização com boxplot\n",
        "plt.figure(figsize=(8, 2))\n",
        "plt.boxplot(dados, vert=False)\n",
        "plt.title(\"Boxplot das Notas\")\n",
        "plt.xlabel(\"Notas\")\n",
        "plt.grid(True)\n",
        "plt.show()"
      ]
    }
  ]
}